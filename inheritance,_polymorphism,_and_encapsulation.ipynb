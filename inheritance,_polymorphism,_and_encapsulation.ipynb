{
  "nbformat": 4,
  "nbformat_minor": 0,
  "metadata": {
    "colab": {
      "provenance": []
    },
    "kernelspec": {
      "name": "python3",
      "display_name": "Python 3"
    },
    "language_info": {
      "name": "python"
    }
  },
  "cells": [
    {
      "cell_type": "code",
      "execution_count": 1,
      "metadata": {
        "colab": {
          "base_uri": "https://localhost:8080/"
        },
        "id": "xbBhid6uVy7g",
        "outputId": "8beb2596-e3a2-4497-c910-880311412c7f"
      },
      "outputs": [
        {
          "output_type": "stream",
          "name": "stdout",
          "text": [
            "Circle area: 78.53981633974483\n",
            "Rectangle area: 12\n"
          ]
        }
      ],
      "source": [
        "import math\n",
        "\n",
        "class Shape:\n",
        "    def __init__(self, color, filled):\n",
        "        self.color = color\n",
        "        self.filled = filled\n",
        "\n",
        "    def calculate_area(self):\n",
        "        pass\n",
        "\n",
        "class Circle(Shape):\n",
        "    def __init__(self, color, filled, radius):\n",
        "        super().__init__(color, filled)\n",
        "        self.radius = radius\n",
        "\n",
        "    def calculate_area(self):\n",
        "        return math.pi * self.radius**2\n",
        "\n",
        "class Rectangle(Shape):\n",
        "    def __init__(self, color, filled, width, height):\n",
        "        super().__init__(color, filled)\n",
        "        self.width = width\n",
        "        self.height = height\n",
        "\n",
        "    def calculate_area(self):\n",
        "        return self.width * self.height\n",
        "\n",
        "# Create instances and demonstrate polymorphism\n",
        "circle = Circle(\"red\", True, 5)\n",
        "rectangle = Rectangle(\"blue\", False, 3, 4)\n",
        "\n",
        "print(f\"Circle area: {circle.calculate_area()}\")\n",
        "print(f\"Rectangle area: {rectangle.calculate_area()}\")"
      ]
    },
    {
      "cell_type": "code",
      "source": [
        "class Animal:\n",
        "    def make_sound(self):\n",
        "        pass\n",
        "\n",
        "class Dog(Animal):\n",
        "    def make_sound(self):\n",
        "        return \"Woof!\"\n",
        "\n",
        "class Cat(Animal):\n",
        "    def make_sound(self):\n",
        "        return \"Meow!\"\n",
        "\n",
        "# Create instances and demonstrate polymorphism\n",
        "dog = Dog()\n",
        "cat = Cat()\n",
        "\n",
        "print(dog.make_sound())\n",
        "print(cat.make_sound())"
      ],
      "metadata": {
        "colab": {
          "base_uri": "https://localhost:8080/"
        },
        "id": "rTQv4s-EWZva",
        "outputId": "f6bc8354-e75c-46b3-8ab3-d602ae4ff11b"
      },
      "execution_count": 2,
      "outputs": [
        {
          "output_type": "stream",
          "name": "stdout",
          "text": [
            "Woof!\n",
            "Meow!\n"
          ]
        }
      ]
    },
    {
      "cell_type": "code",
      "source": [
        "class Person:\n",
        "    def __init__(self, name, age):\n",
        "        self.__name = name\n",
        "        self.__age = age\n",
        "\n",
        "    def get_name(self):\n",
        "        return self.__name\n",
        "\n",
        "    def set_name(self, name):\n",
        "        self.__name = name\n",
        "\n",
        "    def get_age(self):\n",
        "        return self.__age\n",
        "\n",
        "    def set_age(self, age):\n",
        "        self.__age = age\n",
        "\n",
        "class Employee(Person):\n",
        "    def __init__(self, name, age, employee_id):\n",
        "        super().__init__(name, age)\n",
        "        self.employee_id = employee_id\n",
        "\n",
        "# Create an instance and demonstrate encapsulation\n",
        "employee = Employee(\"Alice\", 30, \"EMP123\")\n",
        "print(employee.get_name())\n",
        "print(employee.get_age())\n",
        "\n",
        "employee.set_name(\"Bob\")\n",
        "employee.set_age(35)\n",
        "print(employee.get_name())\n",
        "print(employee.get_age())"
      ],
      "metadata": {
        "colab": {
          "base_uri": "https://localhost:8080/"
        },
        "id": "7tC4jHueWkcf",
        "outputId": "1a0fda20-6854-4745-dc5d-e193b6a3a252"
      },
      "execution_count": 3,
      "outputs": [
        {
          "output_type": "stream",
          "name": "stdout",
          "text": [
            "Alice\n",
            "30\n",
            "Bob\n",
            "35\n"
          ]
        }
      ]
    },
    {
      "cell_type": "code",
      "source": [
        "from abc import ABC, abstractmethod\n",
        "import math\n",
        "\n",
        "class Shape(ABC):\n",
        "    @abstractmethod\n",
        "    def calculate_area(self):\n",
        "        pass\n",
        "\n",
        "class Circle(Shape):\n",
        "    def __init__(self, radius):\n",
        "        self.radius = radius\n",
        "\n",
        "    def calculate_area(self):\n",
        "        return math.pi * self.radius**2\n",
        "\n",
        "class Rectangle(Shape):\n",
        "    def __init__(self, width, height):\n",
        "        self.width = width\n",
        "        self.height = height\n",
        "\n",
        "    def calculate_area(self):\n",
        "        return self.width * self.height\n",
        "\n",
        "# Create instances and demonstrate polymorphism\n",
        "circle = Circle(5)\n",
        "rectangle = Rectangle(3, 4)\n",
        "\n",
        "print(f\"Circle area: {circle.calculate_area()}\")\n",
        "print(f\"Rectangle area: {rectangle.calculate_area()}\")"
      ],
      "metadata": {
        "colab": {
          "base_uri": "https://localhost:8080/"
        },
        "id": "WVCxPi57W4Ra",
        "outputId": "e5359759-d7a0-41c7-b1e4-301ccf18d971"
      },
      "execution_count": 4,
      "outputs": [
        {
          "output_type": "stream",
          "name": "stdout",
          "text": [
            "Circle area: 78.53981633974483\n",
            "Rectangle area: 12\n"
          ]
        }
      ]
    },
    {
      "cell_type": "code",
      "source": [
        "class Animal:\n",
        "    def make_sound(self):\n",
        "        pass\n",
        "\n",
        "class Dog(Animal):\n",
        "    def make_sound(self):\n",
        "        return \"Woof!\"\n",
        "\n",
        "class Cat(Animal):\n",
        "    def make_sound(self):\n",
        "        return \"Meow!\"\n",
        "\n",
        "class Bird(Animal):\n",
        "    def make_sound(self):\n",
        "        return \"Chirp!\"\n",
        "\n",
        "# Create a list of animal objects and demonstrate polymorphism\n",
        "animals = [Dog(), Cat(), Bird()]\n",
        "\n",
        "for animal in animals:\n",
        "    print(animal.make_sound())"
      ],
      "metadata": {
        "colab": {
          "base_uri": "https://localhost:8080/"
        },
        "id": "iC6Jjsr0XE31",
        "outputId": "944343a2-53e8-4979-cec6-1ad9634483e6"
      },
      "execution_count": 5,
      "outputs": [
        {
          "output_type": "stream",
          "name": "stdout",
          "text": [
            "Woof!\n",
            "Meow!\n",
            "Chirp!\n"
          ]
        }
      ]
    },
    {
      "cell_type": "code",
      "source": [
        "from abc import ABC, abstractmethod\n",
        "import math\n",
        "\n",
        "class Shape(ABC):\n",
        "    @abstractmethod\n",
        "    def calculate_area(self):\n",
        "        pass\n",
        "\n",
        "class Rectangle(Shape):\n",
        "    def __init__(self, width, height):\n",
        "        self.width = width\n",
        "        self.height = height\n",
        "\n",
        "    def calculate_area(self):\n",
        "        return self.width * self.height\n",
        "\n",
        "class Triangle(Shape):\n",
        "    def __init__(self, base, height):\n",
        "        self.base = base\n",
        "        self.height = height\n",
        "\n",
        "    def calculate_area(self):\n",
        "        return 0.5 * self.base * self.height\n",
        "\n",
        "class Circle(Shape):\n",
        "    def __init__(self, radius):\n",
        "        self.radius = radius\n",
        "\n",
        "    def calculate_area(self):\n",
        "        return math.pi * self.radius**2\n",
        "\n",
        "# Create a list of different shapes and calculate their areas\n",
        "shapes = [Rectangle(4, 5), Triangle(3, 6), Circle(4)]\n",
        "\n",
        "for shape in shapes:\n",
        "    print(f\"Area of {shape.__class__.__name__}: {shape.calculate_area()}\")"
      ],
      "metadata": {
        "colab": {
          "base_uri": "https://localhost:8080/"
        },
        "id": "SzKIyInbXS-r",
        "outputId": "d801f502-1df6-4b47-b05f-ba0f9bd79705"
      },
      "execution_count": 6,
      "outputs": [
        {
          "output_type": "stream",
          "name": "stdout",
          "text": [
            "Area of Rectangle: 20\n",
            "Area of Triangle: 9.0\n",
            "Area of Circle: 50.26548245743669\n"
          ]
        }
      ]
    },
    {
      "cell_type": "code",
      "source": [
        "class Book:\n",
        "    def __init__(self, title, author, pages):\n",
        "        self.title = title\n",
        "        self.author = author\n",
        "        self.pages = pages\n",
        "\n",
        "    def __str__(self):\n",
        "        return f\"{self.title} by {self.author}\"\n",
        "\n",
        "class Library:\n",
        "    def __init__(self):\n",
        "        self.books = {}\n",
        "\n",
        "    def add_book(self, title, author, pages):\n",
        "        if title in self.books:\n",
        "            print(\"Book already exists in the library.\")\n",
        "        else:\n",
        "            self.books[title] = Book(title, author, pages)\n",
        "            print(\"Book added to the library.\")\n",
        "\n",
        "    def get_book_info(self, title):\n",
        "        if title in self.books:\n",
        "            book = self.books[title]\n",
        "            print(f\"Title: {book.title}\")\n",
        "            print(f\"Author: {book.author}\")\n",
        "            print(f\"Pages: {book.pages}\")\n",
        "        else:\n",
        "            print(\"Book not found in the library.\")\n",
        "\n",
        "    def search_books_by_title(self, title):\n",
        "        found_books = [book for title, book in self.books.items() if title.lower().find(title.lower()) != -1]\n",
        "        if found_books:\n",
        "            print(\"Books found:\")\n",
        "            for book in found_books:\n",
        "                print(f\"- {book}\")\n",
        "        else:\n",
        "            print(\"No books found with the title.\")\n",
        "\n",
        "    def search_books_by_author(self, author):\n",
        "        found_books = [book for book in self.books.values() if book.author.lower().find(author.lower()) != -1]\n",
        "        if found_books:\n",
        "            print(\"Books found:\")\n",
        "            for book in found_books:\n",
        "                print(f\"- {book}\")\n",
        "        else:\n",
        "            print(\"No books found by the author.\")\n",
        "\n",
        "# Example usage\n",
        "library = Library()\n",
        "library.add_book(\"Harry Potter\", \"J.K. Rowling\", 400)\n",
        "library.add_book(\"The Great Gatsby\", \"F. Scott Fitzgerald\", 200)\n",
        "\n",
        "library.get_book_info(\"Harry Potter\")\n",
        "library.get_book_info(\"The Great Gatsby\")\n",
        "\n",
        "library.search_books_by_title(\"harry\")\n",
        "library.search_books_by_author(\"Rowling\")"
      ],
      "metadata": {
        "colab": {
          "base_uri": "https://localhost:8080/"
        },
        "id": "7kZ5X68bXowx",
        "outputId": "796ed4e1-1359-4407-d621-e5d276698d5d"
      },
      "execution_count": 7,
      "outputs": [
        {
          "output_type": "stream",
          "name": "stdout",
          "text": [
            "Book added to the library.\n",
            "Book added to the library.\n",
            "Title: Harry Potter\n",
            "Author: J.K. Rowling\n",
            "Pages: 400\n",
            "Title: The Great Gatsby\n",
            "Author: F. Scott Fitzgerald\n",
            "Pages: 200\n",
            "Books found:\n",
            "- Harry Potter by J.K. Rowling\n",
            "- The Great Gatsby by F. Scott Fitzgerald\n",
            "Books found:\n",
            "- Harry Potter by J.K. Rowling\n"
          ]
        }
      ]
    },
    {
      "cell_type": "code",
      "source": [
        "class Shape:\n",
        "    def __init__(self, color, filled):\n",
        "        self.color = color\n",
        "        self.filled = filled\n",
        "\n",
        "    def __str__(self):\n",
        "        return f\"Color: {self.color}, Filled: {self.filled}\"\n",
        "\n",
        "class Rectangle(Shape):\n",
        "    def __init__(self, color, filled, width, height):\n",
        "        super().__init__(color, filled)\n",
        "        self.width = width\n",
        "        self.height = height\n",
        "\n",
        "    def __str__(self):\n",
        "        return f\"Rectangle - {super().__str__()}, Width: {self.width}, Height: {self.height}\"\n",
        "\n",
        "class Circle(Shape):\n",
        "    def __init__(self, color, filled, radius):\n",
        "        super().__init__(color, filled)\n",
        "        self.radius = radius\n",
        "\n",
        "    def __str__(self):\n",
        "        return f\"Circle - {super().__str__()}, Radius: {self.radius}\"\n",
        "\n",
        "# Example usage\n",
        "rectangle = Rectangle(\"red\", True, 5, 10)\n",
        "circle = Circle(\"blue\", False, 7)\n",
        "\n",
        "print(rectangle)\n",
        "print(circle)\n"
      ],
      "metadata": {
        "colab": {
          "base_uri": "https://localhost:8080/"
        },
        "id": "aSORmPuFX501",
        "outputId": "f243f04d-10f1-4855-9abb-a175a7899c9c"
      },
      "execution_count": 8,
      "outputs": [
        {
          "output_type": "stream",
          "name": "stdout",
          "text": [
            "Rectangle - Color: red, Filled: True, Width: 5, Height: 10\n",
            "Circle - Color: blue, Filled: False, Radius: 7\n"
          ]
        }
      ]
    },
    {
      "cell_type": "code",
      "source": [
        "class Bank:\n",
        "    def __init__(self, name):\n",
        "        self.name = name\n",
        "        self.branches = []\n",
        "\n",
        "    def add_branch(self, branch_name):\n",
        "        self.branches.append(branch_name)\n",
        "\n",
        "    def __str__(self):\n",
        "        return f\"Bank: {self.name}, Branches: {', '.join(self.branches)}\"\n",
        "\n",
        "class OnlineBank(Bank):\n",
        "    def __init__(self, name, website):\n",
        "        super().__init__(name)\n",
        "        self.website = website\n",
        "\n",
        "    def __str__(self):\n",
        "        return f\"Bank: {self.name}, Branches: {', '.join(self.branches)}, Website: {self.website}\"\n",
        "\n",
        "# Example usage\n",
        "bank = Bank(\"MyBank\")\n",
        "bank.add_branch(\"Branch1\")\n",
        "bank.add_branch(\"Branch2\")\n",
        "print(bank)\n",
        "\n",
        "online_bank = OnlineBank(\"OnlineBank\", \"www.onlinebank.com\")\n",
        "online_bank.add_branch(\"OnlineBranch1\")\n",
        "online_bank.add_branch(\"OnlineBranch2\")\n",
        "print(online_bank)\n"
      ],
      "metadata": {
        "colab": {
          "base_uri": "https://localhost:8080/"
        },
        "id": "9pnbxp2TYExX",
        "outputId": "c2b201bd-0c6a-4aea-c928-48d939218fb0"
      },
      "execution_count": 9,
      "outputs": [
        {
          "output_type": "stream",
          "name": "stdout",
          "text": [
            "Bank: MyBank, Branches: Branch1, Branch2\n",
            "Bank: OnlineBank, Branches: OnlineBranch1, OnlineBranch2, Website: www.onlinebank.com\n"
          ]
        }
      ]
    }
  ]
}